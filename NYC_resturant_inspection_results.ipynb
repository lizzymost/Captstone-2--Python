{
 "cells": [
  {
   "cell_type": "code",
   "execution_count": 1,
   "id": "f76891c0",
   "metadata": {},
   "outputs": [],
   "source": [
    "import pandas as pd \n",
    "import matplotlib.pyplot as plt \n",
    "import seaborn as sns \n"
   ]
  },
  {
   "cell_type": "code",
   "execution_count": 6,
   "id": "a48a179c",
   "metadata": {},
   "outputs": [
    {
     "name": "stdout",
     "output_type": "stream",
     "text": [
      "<class 'pandas.core.frame.DataFrame'>\n",
      "RangeIndex: 245435 entries, 0 to 245434\n",
      "Data columns (total 32 columns):\n",
      " #   Column                  Non-Null Count   Dtype  \n",
      "---  ------                  --------------   -----  \n",
      " 0   CAMIS                   245435 non-null  int64  \n",
      " 1   DBA                     243824 non-null  object \n",
      " 2   BORO                    245435 non-null  object \n",
      " 3   BUILDING                244932 non-null  object \n",
      " 4   STREET                  245405 non-null  object \n",
      " 5   ZIPCODE                 241960 non-null  float64\n",
      " 6   PHONE                   245413 non-null  object \n",
      " 7   CUISINE DESCRIPTION     241275 non-null  object \n",
      " 8   INSPECTION DATE         245435 non-null  object \n",
      " 9   ACTION                  241275 non-null  object \n",
      " 10  VIOLATION CODE          239519 non-null  object \n",
      " 11  VIOLATION DESCRIPTION   239519 non-null  object \n",
      " 12  CRITICAL FLAG           245435 non-null  object \n",
      " 13  SCORE                   233600 non-null  float64\n",
      " 14  GRADE                   120408 non-null  object \n",
      " 15  GRADE DATE              113309 non-null  object \n",
      " 16  RECORD DATE             245435 non-null  object \n",
      " 17  INSPECTION TYPE         241275 non-null  object \n",
      " 18  Latitude                245158 non-null  float64\n",
      " 19  Longitude               245158 non-null  float64\n",
      " 20  Community Board         241278 non-null  float64\n",
      " 21  Council District        241278 non-null  float64\n",
      " 22  Census Tract            241278 non-null  float64\n",
      " 23  BIN                     240081 non-null  float64\n",
      " 24  BBL                     244723 non-null  float64\n",
      " 25  NTA                     241278 non-null  object \n",
      " 26  Location Point          0 non-null       float64\n",
      " 27  Zip Codes               0 non-null       float64\n",
      " 28  Community Districts     0 non-null       float64\n",
      " 29  Borough Boundaries      0 non-null       float64\n",
      " 30  City Council Districts  0 non-null       float64\n",
      " 31  Police Precincts        0 non-null       float64\n",
      "dtypes: float64(15), int64(1), object(16)\n",
      "memory usage: 59.9+ MB\n",
      "None\n"
     ]
    }
   ],
   "source": [
    "DOH_inspect = pd.read_csv('DOHMH_New_York_City_Restaurant_Inspection_Results (1).csv')\n",
    "print(DOH_inspect.info())\n"
   ]
  },
  {
   "cell_type": "code",
   "execution_count": 193,
   "id": "bf83629f",
   "metadata": {},
   "outputs": [],
   "source": [
    "New_DOH_inspect =DOH_inspect.drop(DOH_inspect[(DOH_inspect['BORO']=='0')].index,inplace=True)\n"
   ]
  },
  {
   "cell_type": "code",
   "execution_count": 96,
   "id": "c13ddd99",
   "metadata": {},
   "outputs": [
    {
     "name": "stdout",
     "output_type": "stream",
     "text": [
      "Manhattan        92237\n",
      "Brooklyn         63082\n",
      "Queens           58237\n",
      "Bronx            23529\n",
      "Staten Island     8271\n",
      "Name: BORO, dtype: int64\n"
     ]
    }
   ],
   "source": [
    "count_of_inspect_per_boro = DOH_inspect[\"BORO\"].value_counts()\n",
    "print(count_of_inspect_per_boro)\n"
   ]
  },
  {
   "cell_type": "code",
   "execution_count": 165,
   "id": "f060834a",
   "metadata": {},
   "outputs": [
    {
     "name": "stdout",
     "output_type": "stream",
     "text": [
      "Manhattan        0.375931\n",
      "Brooklyn         0.257104\n",
      "Queens           0.237357\n",
      "Bronx            0.095897\n",
      "Staten Island    0.033710\n",
      "Name: BORO, dtype: float64\n"
     ]
    }
   ],
   "source": [
    "percent_inspections_per_boro = DOH_inspect[\"BORO\"].value_counts(normalize=True)\n",
    "print(percent_inspections_per_boro)\n"
   ]
  },
  {
   "cell_type": "code",
   "execution_count": 174,
   "id": "9a29956f",
   "metadata": {},
   "outputs": [
    {
     "name": "stdout",
     "output_type": "stream",
     "text": [
      "           CAMIS                           DBA       BORO BUILDING  \\\n",
      "0       50123204             BUBBLE TEA GARDEN     Queens    15903   \n",
      "1       50116374      DELIGHTFUL BAKERY & CAFE     Queens     7020   \n",
      "2       50127523                         VIRGO  Manhattan      324   \n",
      "3       50121809                           NaN     Queens    12420   \n",
      "4       50106060                           NaN     Queens     1693   \n",
      "...          ...                           ...        ...      ...   \n",
      "245430  50065122  PEKING HOUSE RESTAURANT INC.     Queens     9617   \n",
      "245431  41532740          EXQUISITE RESTAURANT   Brooklyn     2905   \n",
      "245432  50072912             YES CHEF WINE BAR     Queens     4410   \n",
      "245433  50073537                         MAMAN  Manhattan       22   \n",
      "245434  50079488  JOE & THE JUICE GREENWICH ST  Manhattan      295   \n",
      "\n",
      "                  STREET  ZIPCODE       PHONE CUISINE DESCRIPTION  \\\n",
      "0           HILLSIDE AVE  11432.0  9292338584                 NaN   \n",
      "1              GRAND AVE  11378.0  3476491490                 NaN   \n",
      "2           GRAND STREET  10002.0  5169242225                 NaN   \n",
      "3            LIBERTY AVE  11419.0  6465338691                 NaN   \n",
      "4          PUTNAM AVENUE  11385.0  7183818076                 NaN   \n",
      "...                  ...      ...         ...                 ...   \n",
      "245430       LIBERTY AVE  11417.0  9146217188             Chinese   \n",
      "245431     GLENWOOD ROAD  11210.0  3475336453           Caribbean   \n",
      "245432          30TH AVE  11103.0  6466372531            American   \n",
      "245433  WEST   25 STREET  10010.0  6464767660              French   \n",
      "245434  GREENWICH STREET  10007.0  9179721892          Coffee/Tea   \n",
      "\n",
      "       INSPECTION DATE                                           ACTION  ...  \\\n",
      "0           2000-01-01                                              NaN  ...   \n",
      "1           2000-01-01                                              NaN  ...   \n",
      "2           2000-01-01                                              NaN  ...   \n",
      "3           2000-01-01                                              NaN  ...   \n",
      "4           2000-01-01                                              NaN  ...   \n",
      "...                ...                                              ...  ...   \n",
      "245430      2019-10-24  Violations were cited in the following area(s).  ...   \n",
      "245431      2022-07-15  Violations were cited in the following area(s).  ...   \n",
      "245432      2018-03-01  Violations were cited in the following area(s).  ...   \n",
      "245433      2022-07-20  Violations were cited in the following area(s).  ...   \n",
      "245434      2019-12-04  Violations were cited in the following area(s).  ...   \n",
      "\n",
      "         NTA Location Point Zip Codes  Community Districts Borough Boundaries  \\\n",
      "0       QN61            NaN       NaN                  NaN                NaN   \n",
      "1       QN30            NaN       NaN                  NaN                NaN   \n",
      "2       MN27            NaN       NaN                  NaN                NaN   \n",
      "3       QN55            NaN       NaN                  NaN                NaN   \n",
      "4       QN20            NaN       NaN                  NaN                NaN   \n",
      "...      ...            ...       ...                  ...                ...   \n",
      "245430  QN56            NaN       NaN                  NaN                NaN   \n",
      "245431  BK42            NaN       NaN                  NaN                NaN   \n",
      "245432  QN70            NaN       NaN                  NaN                NaN   \n",
      "245433  MN13            NaN       NaN                  NaN                NaN   \n",
      "245434  MN24            NaN       NaN                  NaN                NaN   \n",
      "\n",
      "       City Council Districts Police Precincts  year  vilation_per_year  \\\n",
      "0                         NaN              NaN  2000                NaN   \n",
      "1                         NaN              NaN  2000                NaN   \n",
      "2                         NaN              NaN  2000                NaN   \n",
      "3                         NaN              NaN  2000                NaN   \n",
      "4                         NaN              NaN  2000                NaN   \n",
      "...                       ...              ...   ...                ...   \n",
      "245430                    NaN              NaN  2019                NaN   \n",
      "245431                    NaN              NaN  2022                NaN   \n",
      "245432                    NaN              NaN  2018                NaN   \n",
      "245433                    NaN              NaN  2022                NaN   \n",
      "245434                    NaN              NaN  2019                NaN   \n",
      "\n",
      "                     address  \n",
      "0         15903 HILLSIDE AVE  \n",
      "1             7020 GRAND AVE  \n",
      "2           324 GRAND STREET  \n",
      "3          12420 LIBERTY AVE  \n",
      "4         1693 PUTNAM AVENUE  \n",
      "...                      ...  \n",
      "245430      9617 LIBERTY AVE  \n",
      "245431    2905 GLENWOOD ROAD  \n",
      "245432         4410 30TH AVE  \n",
      "245433   22 WEST   25 STREET  \n",
      "245434  295 GREENWICH STREET  \n",
      "\n",
      "[245356 rows x 35 columns]\n"
     ]
    }
   ],
   "source": [
    "DOH_inspect[\"address\"] = DOH_inspect['BUILDING'].astype(str) +\" \"+ DOH_inspect[\"STREET\"]\n",
    "print(DOH_inspect)\n"
   ]
  },
  {
   "cell_type": "code",
   "execution_count": 190,
   "id": "8d881556",
   "metadata": {},
   "outputs": [
    {
     "name": "stdout",
     "output_type": "stream",
     "text": [
      "27893\n"
     ]
    }
   ],
   "source": [
    "count_of_rest=DOH_inspect.CAMIS.nunique()\n",
    "print(count_of_rest)\n"
   ]
  },
  {
   "cell_type": "code",
   "execution_count": 189,
   "id": "c2712a09",
   "metadata": {},
   "outputs": [
    {
     "name": "stdout",
     "output_type": "stream",
     "text": [
      "BORO\n",
      "Bronx             2542\n",
      "Brooklyn          7084\n",
      "Manhattan        10762\n",
      "Queens            6465\n",
      "Staten Island     1040\n",
      "Name: CAMIS, dtype: int64\n"
     ]
    }
   ],
   "source": [
    "\n",
    "count_of_rest_per_boro=DOH_inspect.groupby('BORO').CAMIS.nunique()\n",
    "print(count_of_rest_per_boro)"
   ]
  },
  {
   "cell_type": "code",
   "execution_count": 197,
   "id": "ce614d73",
   "metadata": {},
   "outputs": [
    {
     "data": {
      "image/png": "[encoded data removed]",
      "text/plain": [
       "<Figure size 432x288 with 1 Axes>"
      ]
     },
     "metadata": {
      "needs_background": "light"
     },
     "output_type": "display_data"
    }
   ],
   "source": [
    "count_of_inspect_per_boro = DOH_inspect.groupby(\"BORO\").agg({'BORO':'count'})\n",
    "count_of_inspect_per_boro.plot(kind='bar', title= 'Count of inspections per boro')\n",
    "plt.show()\n"
   ]
  },
  {
   "cell_type": "code",
   "execution_count": 98,
   "id": "dfd07483",
   "metadata": {},
   "outputs": [
    {
     "name": "stdout",
     "output_type": "stream",
     "text": [
      "239479\n"
     ]
    }
   ],
   "source": [
    "count_all_violations = DOH_inspect['VIOLATION CODE'].notnull().sum()\n",
    "print(count_all_violations)\n"
   ]
  },
  {
   "cell_type": "code",
   "execution_count": 99,
   "id": "f08db872",
   "metadata": {},
   "outputs": [
    {
     "name": "stdout",
     "output_type": "stream",
     "text": [
      "10F      41953\n",
      "08A      25717\n",
      "04L      16264\n",
      "06D      16005\n",
      "02G      14727\n",
      "         ...  \n",
      "22B          1\n",
      "15-39        1\n",
      "20C          1\n",
      "15-33        1\n",
      "03F          1\n",
      "Name: VIOLATION CODE, Length: 136, dtype: int64\n"
     ]
    }
   ],
   "source": [
    "most_common_vilation = DOH_inspect['VIOLATION CODE'].value_counts()\n",
    "print(most_common_vilation)\n"
   ]
  },
  {
   "cell_type": "code",
   "execution_count": 203,
   "id": "d9efe5c5",
   "metadata": {},
   "outputs": [
    {
     "data": {
      "image/png": "[encoded data removed]",
      "text/plain": [
       "<Figure size 432x288 with 1 Axes>"
      ]
     },
     "metadata": {
      "needs_background": "light"
     },
     "output_type": "display_data"
    }
   ],
   "source": [
    "most_common_vilation = DOH_inspect.groupby([\"VIOLATION CODE\"])['VIOLATION CODE'].value_counts().sort_values(ascending=False).head(6)\n",
    "most_common_vilation.plot(kind='bar',title=\"Top violations\", ylabel='count')\n",
    "plt.show()"
   ]
  },
  {
   "cell_type": "code",
   "execution_count": 100,
   "id": "fea38be6",
   "metadata": {},
   "outputs": [
    {
     "name": "stdout",
     "output_type": "stream",
     "text": [
      "BORO           VIOLATION CODE\n",
      "Manhattan      10F               15739\n",
      "Brooklyn       10F               10944\n",
      "Queens         10F                9760\n",
      "Manhattan      08A                9440\n",
      "               06D                6700\n",
      "                                 ...  \n",
      "               18-14                 1\n",
      "Bronx          15S                   1\n",
      "               15L                   1\n",
      "               15J                   1\n",
      "Staten Island  19-04                 1\n",
      "Name: VIOLATION CODE, Length: 536, dtype: int64\n"
     ]
    }
   ],
   "source": [
    "most_common_vilation_per_boro = DOH_inspect.groupby([\"BORO\"])['VIOLATION CODE'].value_counts().sort_values(ascending=False)\n",
    "\n",
    "print(most_common_vilation_per_boro)"
   ]
  },
  {
   "cell_type": "code",
   "execution_count": 204,
   "id": "9e18a092",
   "metadata": {},
   "outputs": [
    {
     "data": {
      "image/png": "[encoded data removed]",
      "text/plain": [
       "<Figure size 432x288 with 1 Axes>"
      ]
     },
     "metadata": {
      "needs_background": "light"
     },
     "output_type": "display_data"
    }
   ],
   "source": [
    "most_common_vilation_per_boro = DOH_inspect.groupby([\"BORO\"])['VIOLATION CODE'].value_counts().sort_values(ascending=False).head(6)\n",
    "most_common_vilation_per_boro.plot(kind='bar', title='most common violation in boros', ylabel='count')\n",
    "plt.show()"
   ]
  },
  {
   "cell_type": "code",
   "execution_count": 101,
   "id": "775da9d4",
   "metadata": {},
   "outputs": [
    {
     "name": "stdout",
     "output_type": "stream",
     "text": [
      "<class 'pandas.core.frame.DataFrame'>\n",
      "Int64Index: 245356 entries, 0 to 245434\n",
      "Data columns (total 34 columns):\n",
      " #   Column                  Non-Null Count   Dtype         \n",
      "---  ------                  --------------   -----         \n",
      " 0   CAMIS                   245356 non-null  int64         \n",
      " 1   DBA                     243773 non-null  object        \n",
      " 2   BORO                    245356 non-null  object        \n",
      " 3   BUILDING                244883 non-null  object        \n",
      " 4   STREET                  245356 non-null  object        \n",
      " 5   ZIPCODE                 241911 non-null  float64       \n",
      " 6   PHONE                   245334 non-null  object        \n",
      " 7   CUISINE DESCRIPTION     241234 non-null  object        \n",
      " 8   INSPECTION DATE         245356 non-null  datetime64[ns]\n",
      " 9   ACTION                  241234 non-null  object        \n",
      " 10  VIOLATION CODE          239479 non-null  object        \n",
      " 11  VIOLATION DESCRIPTION   239479 non-null  object        \n",
      " 12  CRITICAL FLAG           245356 non-null  object        \n",
      " 13  SCORE                   233559 non-null  float64       \n",
      " 14  GRADE                   120380 non-null  object        \n",
      " 15  GRADE DATE              113281 non-null  object        \n",
      " 16  RECORD DATE             245356 non-null  object        \n",
      " 17  INSPECTION TYPE         241234 non-null  object        \n",
      " 18  Latitude                245158 non-null  float64       \n",
      " 19  Longitude               245158 non-null  float64       \n",
      " 20  Community Board         241278 non-null  float64       \n",
      " 21  Council District        241278 non-null  float64       \n",
      " 22  Census Tract            241278 non-null  float64       \n",
      " 23  BIN                     240081 non-null  float64       \n",
      " 24  BBL                     244723 non-null  float64       \n",
      " 25  NTA                     241278 non-null  object        \n",
      " 26  Location Point          0 non-null       float64       \n",
      " 27  Zip Codes               0 non-null       float64       \n",
      " 28  Community Districts     0 non-null       float64       \n",
      " 29  Borough Boundaries      0 non-null       float64       \n",
      " 30  City Council Districts  0 non-null       float64       \n",
      " 31  Police Precincts        0 non-null       float64       \n",
      " 32  year                    245356 non-null  int64         \n",
      " 33  vilation_per_year       11 non-null      float64       \n",
      "dtypes: datetime64[ns](1), float64(16), int64(2), object(15)\n",
      "memory usage: 65.5+ MB\n",
      "None\n"
     ]
    }
   ],
   "source": [
    "DOH_inspect['INSPECTION DATE'] = pd.to_datetime(DOH_inspect['INSPECTION DATE'])\n",
    "\n",
    "DOH_inspect['year'] = DOH_inspect['INSPECTION DATE'].dt.year\n",
    "print(DOH_inspect.info())\n"
   ]
  },
  {
   "cell_type": "code",
   "execution_count": 102,
   "id": "9cf3ef18",
   "metadata": {},
   "outputs": [
    {
     "data": {
      "text/plain": [
       "2019    87236\n",
       "2022    73949\n",
       "2021    25601\n",
       "2020    24799\n",
       "2018    18527\n",
       "2017     9200\n",
       "2000     4122\n",
       "2016     1871\n",
       "2015       45\n",
       "2014        5\n",
       "2013        1\n",
       "Name: year, dtype: int64"
      ]
     },
     "execution_count": 102,
     "metadata": {},
     "output_type": "execute_result"
    }
   ],
   "source": [
    "DOH_inspect.year = DOH_inspect['INSPECTION DATE'].dt.year\n",
    "DOH_inspect.year.value_counts()\n"
   ]
  },
  {
   "cell_type": "code",
   "execution_count": 103,
   "id": "e14035c2",
   "metadata": {},
   "outputs": [
    {
     "name": "stdout",
     "output_type": "stream",
     "text": [
      "Critical          124193\n",
      "Not Critical      115286\n",
      "Not Applicable      5877\n",
      "Name: CRITICAL FLAG, dtype: int64\n"
     ]
    }
   ],
   "source": [
    "critical_violation = DOH_inspect['CRITICAL FLAG'].value_counts()\n",
    "print(critical_violation)\n"
   ]
  },
  {
   "cell_type": "code",
   "execution_count": 104,
   "id": "f026b9cf",
   "metadata": {},
   "outputs": [
    {
     "name": "stdout",
     "output_type": "stream",
     "text": [
      "BORO           CRITICAL FLAG \n",
      "Manhattan      Critical          46474\n",
      "               Not Critical      43428\n",
      "Brooklyn       Critical          31797\n",
      "               Not Critical      29802\n",
      "Queens         Critical          29676\n",
      "               Not Critical      27177\n",
      "Bronx          Critical          12049\n",
      "               Not Critical      10987\n",
      "Staten Island  Critical           4197\n",
      "               Not Critical       3892\n",
      "Manhattan      Not Applicable     2335\n",
      "Brooklyn       Not Applicable     1483\n",
      "Queens         Not Applicable     1384\n",
      "Bronx          Not Applicable      493\n",
      "Staten Island  Not Applicable      182\n",
      "Name: CRITICAL FLAG, dtype: int64\n"
     ]
    }
   ],
   "source": [
    "boro_critical_violations = DOH_inspect.groupby([\"BORO\"])['CRITICAL FLAG'].value_counts().sort_values(ascending=False)\n",
    "print(boro_critical_violations)\n"
   ]
  },
  {
   "cell_type": "code",
   "execution_count": null,
   "id": "f57ea877",
   "metadata": {},
   "outputs": [],
   "source": []
  },
  {
   "cell_type": "code",
   "execution_count": 105,
   "id": "d362db8f",
   "metadata": {},
   "outputs": [
    {
     "data": {
      "image/png": "[encoded data removed]",
      "text/plain": [
       "<Figure size 432x288 with 1 Axes>"
      ]
     },
     "metadata": {
      "needs_background": "light"
     },
     "output_type": "display_data"
    }
   ],
   "source": [
    "df1= DOH_inspect.groupby(['BORO'])['CRITICAL FLAG'].value_counts().sort_values(ascending=False)\n",
    "df1.plot (kind = \"bar\", title= 'count_of_critical_flags',ylabel= \"count\", xlabel =\"boro\")\n",
    "plt.show()\n"
   ]
  },
  {
   "cell_type": "code",
   "execution_count": 140,
   "id": "c7e51758",
   "metadata": {},
   "outputs": [
    {
     "data": {
      "image/png": "[encoded data removed]",
      "text/plain": [
       "<Figure size 432x288 with 1 Axes>"
      ]
     },
     "metadata": {
      "needs_background": "light"
     },
     "output_type": "display_data"
    }
   ],
   "source": [
    "df2= DOH_inspect.groupby(['year'])['CRITICAL FLAG'].value_counts()\n",
    "df2.plot (kind = \"bar\", title= 'count_of_results_per_year',ylabel= \"count\", xlabel =\"year\")\n",
    "plt.show()\n"
   ]
  },
  {
   "cell_type": "code",
   "execution_count": 159,
   "id": "d9589d9e",
   "metadata": {},
   "outputs": [
    {
     "data": {
      "text/plain": [
       "<AxesSubplot:xlabel='year', ylabel='count'>"
      ]
     },
     "execution_count": 159,
     "metadata": {},
     "output_type": "execute_result"
    },
    {
     "data": {
      "image/png": "[encoded data removed]",
      "text/plain": [
       "<Figure size 432x288 with 1 Axes>"
      ]
     },
     "metadata": {
      "needs_background": "light"
     },
     "output_type": "display_data"
    }
   ],
   "source": [
    "\n",
    "sns.countplot(x=DOH_inspect['year'])\n"
   ]
  },
  {
   "cell_type": "code",
   "execution_count": 160,
   "id": "975d60a3",
   "metadata": {},
   "outputs": [
    {
     "name": "stdout",
     "output_type": "stream",
     "text": [
      "Critical          0.506175\n",
      "Not Critical      0.469872\n",
      "Not Applicable    0.023953\n",
      "Name: CRITICAL FLAG, dtype: float64\n"
     ]
    }
   ],
   "source": [
    "critical_violation = DOH_inspect['CRITICAL FLAG'].value_counts(normalize=True)\n",
    "print(critical_violation)\n"
   ]
  },
  {
   "cell_type": "code",
   "execution_count": 162,
   "id": "481551a9",
   "metadata": {},
   "outputs": [
    {
     "name": "stdout",
     "output_type": "stream",
     "text": [
      "Violations were cited in the following area(s).                                                                                       227783\n",
      "Establishment Closed by DOHMH. Violations were cited in the following area(s) and those requiring immediate action were addressed.      9217\n",
      "Establishment re-opened by DOHMH.                                                                                                       2457\n",
      "No violations were recorded at the time of this inspection.                                                                             1743\n",
      "Establishment re-closed by DOHMH.                                                                                                         34\n",
      "Name: ACTION, dtype: int64\n"
     ]
    }
   ],
   "source": [
    "action_type = DOH_inspect['ACTION'].value_counts()\n",
    "print(action_type)\n"
   ]
  },
  {
   "cell_type": "code",
   "execution_count": 182,
   "id": "b157069c",
   "metadata": {},
   "outputs": [
    {
     "name": "stdout",
     "output_type": "stream",
     "text": [
      "DUNKIN                      2845\n",
      "SUBWAY                      1718\n",
      "STARBUCKS                   1220\n",
      "MCDONALD'S                  1133\n",
      "KENNEDY FRIED CHICKEN        755\n",
      "                            ... \n",
      "MIA MARIE'S                    1\n",
      "SeafoodMixer Market            1\n",
      "CATRACHA RESTAURANT            1\n",
      "Palace Chicken and Grill       1\n",
      "DM RESTAURANT                  1\n",
      "Name: DBA, Length: 21214, dtype: int64\n"
     ]
    }
   ],
   "source": [
    "name_of_rest = DOH_inspect['DBA'].value_counts()\n",
    "print(name_of_rest)\n"
   ]
  },
  {
   "cell_type": "code",
   "execution_count": 184,
   "id": "932dcfef",
   "metadata": {},
   "outputs": [
    {
     "name": "stdout",
     "output_type": "stream",
     "text": [
      "BORO\n",
      "Bronx            21.405453\n",
      "Brooklyn         22.241548\n",
      "Manhattan        21.711389\n",
      "Queens           21.879903\n",
      "Staten Island    18.937366\n",
      "Name: SCORE, dtype: float64\n"
     ]
    }
   ],
   "source": [
    "avg_score_per_boro=DOH_inspect.groupby(['BORO'])['SCORE'].mean()\n",
    "print(avg_score_per_boro)\n"
   ]
  },
  {
   "cell_type": "code",
   "execution_count": 185,
   "id": "622bfbb8",
   "metadata": {},
   "outputs": [
    {
     "name": "stdout",
     "output_type": "stream",
     "text": [
      "BORO           year\n",
      "Bronx          2000          NaN\n",
      "               2015     9.000000\n",
      "               2016    19.878571\n",
      "               2017    17.785421\n",
      "               2018    19.884438\n",
      "               2019    20.863972\n",
      "               2020    18.167921\n",
      "               2021    21.636832\n",
      "               2022    24.150092\n",
      "Brooklyn       2000          NaN\n",
      "               2015    29.000000\n",
      "               2016    16.008902\n",
      "               2017    19.497154\n",
      "               2018    20.080137\n",
      "               2019    20.269173\n",
      "               2020    19.721790\n",
      "               2021    23.105863\n",
      "               2022    25.596012\n",
      "Manhattan      2000          NaN\n",
      "               2013     2.000000\n",
      "               2014    11.000000\n",
      "               2015    15.347826\n",
      "               2016    18.077118\n",
      "               2017    18.349127\n",
      "               2018    20.124230\n",
      "               2019    20.246558\n",
      "               2020    19.789610\n",
      "               2021    21.445361\n",
      "               2022    25.058866\n",
      "Queens         2000          NaN\n",
      "               2015    16.400000\n",
      "               2016    12.690537\n",
      "               2017    17.323529\n",
      "               2018    19.983529\n",
      "               2019    20.661703\n",
      "               2020    20.272887\n",
      "               2021    23.164973\n",
      "               2022    24.863402\n",
      "Staten Island  2000          NaN\n",
      "               2016    17.608247\n",
      "               2017    20.877828\n",
      "               2018    20.298417\n",
      "               2019    18.825459\n",
      "               2020    18.277167\n",
      "               2021    17.522807\n",
      "               2022    19.018803\n",
      "Name: SCORE, dtype: float64\n"
     ]
    }
   ],
   "source": [
    "avg_score_per_boro_and_year=DOH_inspect.groupby(['BORO','year'])['SCORE'].mean()\n",
    "print(avg_score_per_boro_and_year)"
   ]
  },
  {
   "cell_type": "code",
   "execution_count": null,
   "id": "15b90930",
   "metadata": {},
   "outputs": [],
   "source": []
  }
 ],
 "metadata": {
  "kernelspec": {
   "display_name": "Python 3 (ipykernel)",
   "language": "python",
   "name": "python3"
  },
  "language_info": {
   "codemirror_mode": {
    "name": "ipython",
    "version": 3
   },
   "file_extension": ".py",
   "mimetype": "text/x-python",
   "name": "python",
   "nbconvert_exporter": "python",
   "pygments_lexer": "ipython3",
   "version": "3.9.12"
  }
 },
 "nbformat": 4,
 "nbformat_minor": 5
}
